{
 "cells": [
  {
   "cell_type": "code",
   "execution_count": null,
   "metadata": {},
   "outputs": [],
   "source": [
    "from datasets import load_dataset\n",
    "\n",
    "df = load_dataset(\"sh0416/humanextension\", split=\"test\").to_pandas()"
   ]
  },
  {
   "cell_type": "code",
   "execution_count": null,
   "metadata": {},
   "outputs": [],
   "source": [
    "import ast\n",
    "\n",
    "def extract_docstring(code: str) -> str:\n",
    "    return ast.unparse(ast.parse(code).body[0]).split(\"\\n\")[0][4:-1]\n",
    "\n",
    "df['function1_declaration'] = df['function1_signature'].map(extract_docstring)\n",
    "df['function2_declaration'] = df['function2_signature'].map(extract_docstring)"
   ]
  },
  {
   "cell_type": "code",
   "execution_count": null,
   "metadata": {},
   "outputs": [],
   "source": [
    "import ast\n",
    "\n",
    "def extract_docstring(code: str) -> str:\n",
    "    node = ast.parse(code).body[0]\n",
    "    assert isinstance(node, ast.FunctionDef)\n",
    "    docstring = ast.get_docstring(node)\n",
    "    if docstring is None:\n",
    "        print(code)\n",
    "    return docstring\n",
    "\n",
    "df['function1_docstring'] = df['function1_signature'].map(extract_docstring)\n",
    "df['function2_docstring'] = df['function2_signature'].map(extract_docstring)"
   ]
  },
  {
   "cell_type": "code",
   "execution_count": null,
   "metadata": {},
   "outputs": [],
   "source": [
    "import ast\n",
    "\n",
    "def extract_implementation(code: str) -> str:\n",
    "    node = ast.parse(code).body[0]\n",
    "    assert isinstance(node, ast.FunctionDef)\n",
    "    if ast.get_docstring(node) is not None:\n",
    "        node.body = node.body[1:]\n",
    "    return \"\\n\".join(ast.unparse(node).split(\"\\n\")[1:])\n",
    "\n",
    "df[\"function1_implementation\"] = df[\"function1_human\"].map(extract_implementation)\n",
    "df[\"function2_implementation\"] = df[\"function2_human\"].map(extract_implementation)"
   ]
  },
  {
   "cell_type": "code",
   "execution_count": null,
   "metadata": {},
   "outputs": [],
   "source": [
    "df['stop_tokens'] = df['stop_tokens'].map(list)"
   ]
  },
  {
   "cell_type": "code",
   "execution_count": null,
   "metadata": {},
   "outputs": [],
   "source": [
    "import json\n",
    "\n",
    "with open(\"test.jsonl\", \"w\") as f:\n",
    "    f.writelines(json.dumps(row) + \"\\n\" for row in df.to_dict(orient='records'))"
   ]
  }
 ],
 "metadata": {
  "kernelspec": {
   "display_name": "humanextension",
   "language": "python",
   "name": "python3"
  },
  "language_info": {
   "codemirror_mode": {
    "name": "ipython",
    "version": 3
   },
   "file_extension": ".py",
   "mimetype": "text/x-python",
   "name": "python",
   "nbconvert_exporter": "python",
   "pygments_lexer": "ipython3",
   "version": "3.10.15"
  }
 },
 "nbformat": 4,
 "nbformat_minor": 2
}
